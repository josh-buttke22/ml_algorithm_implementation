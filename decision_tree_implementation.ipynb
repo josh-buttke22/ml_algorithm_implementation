{
 "cells": [
  {
   "cell_type": "code",
   "execution_count": 1,
   "metadata": {},
   "outputs": [],
   "source": [
    "import pandas as pd\n",
    "import numpy as np\n"
   ]
  },
  {
   "cell_type": "code",
   "execution_count": 2,
   "metadata": {},
   "outputs": [],
   "source": [
    "df = pd.DataFrame(np.random.randint(0,100,size=(15, 4)), columns=list('ABCD'))"
   ]
  },
  {
   "cell_type": "code",
   "execution_count": null,
   "metadata": {},
   "outputs": [],
   "source": [
    "def calculate_gini_impurity(x_feature,y_target):\n",
    "    # calculate the proportion of x_feature, y_target feature split\n",
    "    \n",
    "    # returns gini impurity value\n",
    "    return gini"
   ]
  },
  {
   "cell_type": "code",
   "execution_count": null,
   "metadata": {},
   "outputs": [],
   "source": [
    "def find_splits(feature):\n",
    "    # find all the possible splits\n",
    "    return splits"
   ]
  },
  {
   "cell_type": "code",
   "execution_count": null,
   "metadata": {},
   "outputs": [],
   "source": [
    "def calculate_lowest_gini_impurity(x_features, y_target):\n",
    "    # for all of the features\n",
    "    for feature in x_features:\n",
    "        # loop over all the feature splits\n",
    "        # 1. find splits\n",
    "        splits = find_splits(feature)\n",
    "        for split in splits:\n",
    "            # 2. calculate the gini of all the splits for all the features\n",
    "            gini_list.append(calculate_gini_impurity(feature, y_target))\n",
    "    # Find the split with the lowest gini impurity and use that split to split\n",
    "    # the features\n",
    "    # if none of the splits are greater(or better), return none\n",
    "    return best_split"
   ]
  },
  {
   "cell_type": "code",
   "execution_count": null,
   "metadata": {},
   "outputs": [],
   "source": [
    "# iterate over all of the features, for each feature determine gini impurity given a split\n",
    "# return the best split\n",
    "def create_split(x_features, y_target, previous_gini_impurity, max_splits=5):\n",
    "    tree = []\n",
    "    # create_split is a recursive method that will call itself until the gini_impurity does not decrease\n",
    "    # 1. Calculate gini impurity of dataset using x_features, y_target\n",
    "    new_split_gini_impurity = calculate_lowest_gini_impurity(x_features,y_target)\n",
    "    # 2. Compare the gini impurity of \n",
    "    if new_split_gini != None\n",
    "        # continue building the tree\n",
    "    # best split is column position, and value of column with lowest gini impurity\n",
    "    # column position, split_value, gini_impurity_of_split\n",
    "    \n",
    "    return best_split"
   ]
  },
  {
   "cell_type": "code",
   "execution_count": null,
   "metadata": {},
   "outputs": [],
   "source": []
  },
  {
   "cell_type": "code",
   "execution_count": null,
   "metadata": {},
   "outputs": [],
   "source": [
    "def train(x_features, y_target):\n",
    "    current_node_impurity = 1\n",
    "    # 1. determine the best split of the given features\n",
    "    best_split = determine_best_split(x_features, y_target)\n",
    "    # 2. Evaluate if the best split is better than the current node(i.e. does it decrease impurity)\n",
    "    # if the split is better, then add the split and continue checking the data\n",
    "    if best_split[3] > current_node_impurity:\n",
    "        # if split is better than current node and reduces impurity add the split\n",
    "        # add the node to tree\n",
    "        stack = \n",
    "        # split the data\n",
    "        # send each split to each node and evaluate the split\n",
    "        best_split = determine_best_split(x_features, y_target)\n",
    "    \n",
    "    \n",
    "    return model"
   ]
  },
  {
   "cell_type": "code",
   "execution_count": null,
   "metadata": {},
   "outputs": [],
   "source": []
  },
  {
   "cell_type": "code",
   "execution_count": 4,
   "metadata": {},
   "outputs": [],
   "source": [
    "def josh_decision_tree(x_features,x_features_type_order, y_target):\n",
    "    \n",
    "    # 1. determine the best split of the given features\n",
    "    best_split = determine_best_split(x_features, y_target)\n",
    "    # 2. Evaluate if the best split is better than the current node(i.e. does it decrease impurity)\n",
    "    if best_split[3] \n",
    "    # 3. If split is better add split and continue checking the data\n",
    "    \n",
    "    # does not return anything\n",
    "    return"
   ]
  },
  {
   "cell_type": "code",
   "execution_count": 5,
   "metadata": {},
   "outputs": [],
   "source": [
    "def predict_proba(x_features, model):\n",
    "        # array of probabilities\n",
    "        return probs"
   ]
  },
  {
   "cell_type": "code",
   "execution_count": 6,
   "metadata": {},
   "outputs": [],
   "source": [
    "def predict(x_features, model, threshold):\n",
    "        # call predict_proba()\n",
    "        # binary classification\n",
    "        return preds"
   ]
  },
  {
   "cell_type": "code",
   "execution_count": null,
   "metadata": {},
   "outputs": [],
   "source": []
  }
 ],
 "metadata": {
  "kernelspec": {
   "display_name": "Python 3",
   "language": "python",
   "name": "python3"
  },
  "language_info": {
   "codemirror_mode": {
    "name": "ipython",
    "version": 3
   },
   "file_extension": ".py",
   "mimetype": "text/x-python",
   "name": "python",
   "nbconvert_exporter": "python",
   "pygments_lexer": "ipython3",
   "version": "3.7.6"
  }
 },
 "nbformat": 4,
 "nbformat_minor": 4
}
